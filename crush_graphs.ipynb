{
 "cells": [
  {
   "cell_type": "code",
   "execution_count": null,
   "metadata": {},
   "outputs": [],
   "source": [
    "%load_ext autoreload\n",
    "%autoreload 2\n",
    "%matplotlib notebook"
   ]
  },
  {
   "cell_type": "code",
   "execution_count": null,
   "metadata": {},
   "outputs": [],
   "source": [
    "from crush_read import *\n",
    "from crush_plot import *\n",
    "plt.style.use('ggplot')\n",
    "PATH"
   ]
  },
  {
   "cell_type": "code",
   "execution_count": null,
   "metadata": {},
   "outputs": [],
   "source": [
    "study = study_outline(PATH)\n",
    "targets = study_targets(PATH)\n",
    "crushes = study_data(study)\n",
    "crushes = modify(crushes)\n",
    "crushes = calculate(crushes)"
   ]
  },
  {
   "cell_type": "code",
   "execution_count": null,
   "metadata": {},
   "outputs": [],
   "source": [
    "_ = prep(crushes, targets)\n",
    "crushes = refine(crushes, drop=False)"
   ]
  },
  {
   "cell_type": "markdown",
   "metadata": {},
   "source": [
    "Prepare graphs needed for paper."
   ]
  },
  {
   "cell_type": "code",
   "execution_count": null,
   "metadata": {},
   "outputs": [],
   "source": [
    "# Convenience functions\n",
    "def patient(patient):\n",
    "    return crushes.loc[crushes['Patient'] == patient.upper(), :]\n",
    "\n",
    "def tissue(tissue):\n",
    "    return crushes.loc[crushes['Tissue'] == tissue.upper(), :]\n",
    "\n",
    "def protocol(protocol):\n",
    "    return crushes.loc[crushes['Protocol'] == protocol.upper(), :]\n",
    "\n",
    "def load(load):\n",
    "    return crushes.loc[crushes['Load'] == load.lower(), :]"
   ]
  },
  {
   "cell_type": "code",
   "execution_count": null,
   "metadata": {},
   "outputs": [],
   "source": [
    "crushes"
   ]
  },
  {
   "cell_type": "markdown",
   "metadata": {},
   "source": [
    "Focus on stop and first 10 patients."
   ]
  },
  {
   "cell_type": "code",
   "execution_count": null,
   "metadata": {},
   "outputs": [],
   "source": [
    "crushes = protocol('stop')\n",
    "crushes = crushes[crushes['Patient'].isin(['PC1', 'PC2', 'PC3', 'PC4', 'PC5', 'PC6', 'PC7', 'PC8', 'PC9', 'PC10'])]"
   ]
  },
  {
   "cell_type": "code",
   "execution_count": null,
   "metadata": {},
   "outputs": [],
   "source": [
    "crushes"
   ]
  },
  {
   "cell_type": "code",
   "execution_count": null,
   "metadata": {},
   "outputs": [],
   "source": [
    "sb = tissue('sb')\n",
    "sb.shape"
   ]
  },
  {
   "cell_type": "code",
   "execution_count": null,
   "metadata": {},
   "outputs": [],
   "source": [
    "colon = tissue('colon')\n",
    "colon.shape"
   ]
  },
  {
   "cell_type": "code",
   "execution_count": null,
   "metadata": {},
   "outputs": [],
   "source": [
    "crushes['Patient'].unique()"
   ]
  },
  {
   "cell_type": "markdown",
   "metadata": {},
   "source": [
    "# COLON PERCENTAGE PLOT"
   ]
  },
  {
   "cell_type": "code",
   "execution_count": null,
   "metadata": {},
   "outputs": [],
   "source": [
    "damage = colon['Damage Score']\n",
    "colon_dam = pd.DataFrame({'No Damage': (damage == 0),\n",
    "                          'Minor Damage': (damage == 1),\n",
    "                          'Major Damage': (damage == 2)})\n",
    "colon_dam = pd.concat([colon_dam, colon['Load (g)']], axis=1)\n",
    "colon_dam"
   ]
  },
  {
   "cell_type": "code",
   "execution_count": null,
   "metadata": {},
   "outputs": [],
   "source": [
    "group = colon_dam.groupby('Load (g)').sum()\n",
    "group['Count'] = group.sum(axis=1)\n",
    "group"
   ]
  },
  {
   "cell_type": "code",
   "execution_count": null,
   "metadata": {},
   "outputs": [],
   "source": [
    "group[['Minor Damage', 'Major Damage']].plot.bar(width=0.8)"
   ]
  },
  {
   "cell_type": "code",
   "execution_count": null,
   "metadata": {},
   "outputs": [],
   "source": [
    "group = group.reset_index()\n",
    "group"
   ]
  },
  {
   "cell_type": "code",
   "execution_count": null,
   "metadata": {},
   "outputs": [],
   "source": [
    "damage_types = ['No Damage', 'Minor Damage', 'Major Damage']\n",
    "for damage in damage_types:\n",
    "    group[damage] = group[damage] / group['Count']\n",
    "group"
   ]
  },
  {
   "cell_type": "code",
   "execution_count": null,
   "metadata": {},
   "outputs": [],
   "source": [
    "from matplotlib.colors import ListedColormap"
   ]
  },
  {
   "cell_type": "code",
   "execution_count": null,
   "metadata": {},
   "outputs": [],
   "source": [
    "colors = ListedColormap(['blue', 'orange', 'red'])\n",
    "width = 50\n",
    "\n",
    "for i, damage in enumerate(damage_types):\n",
    "    plt.figure()\n",
    "    plt.bar(x=group['Load (g)'], height=group[damage], width=width, label=damage, color=colors(i))\n",
    "    plt.legend()\n",
    "    plt.ylabel('Percentage of Samples')\n",
    "    plt.xlabel('Load (g)')\n",
    "    plt.ylim(0, 1)\n",
    "    ax = plt.gca()\n",
    "    ticks = ax.get_yticks()\n",
    "    ax.set_yticklabels(['{:.0%}'.format(x) for x in ticks])"
   ]
  },
  {
   "cell_type": "code",
   "execution_count": null,
   "metadata": {},
   "outputs": [],
   "source": [
    "colors = ListedColormap(['blue', 'orange', 'red'])\n",
    "width = 50\n",
    "shift = [-width, 0, width]\n",
    "plt.figure()\n",
    "for i, damage in enumerate(damage_types): \n",
    "    if i == 0:\n",
    "        continue\n",
    "    x_val = group['Load (g)'] + shift[i]\n",
    "    plt.bar(x=x_val, height=group[damage], width=width, label=damage, color=colors(i))\n",
    "plt.legend()\n",
    "plt.ylabel('Percentage of Samples')\n",
    "plt.xlabel('Load (g)')\n",
    "plt.ylim(0, 1)\n",
    "ax = plt.gca()\n",
    "ticks = ax.get_yticks()\n",
    "_ = ax.set_yticklabels(['{:.0%}'.format(x) for x in ticks])"
   ]
  },
  {
   "cell_type": "code",
   "execution_count": null,
   "metadata": {},
   "outputs": [],
   "source": [
    "nice_colors = ListedColormap(['orangered', 'orange', 'dodgerblue'])"
   ]
  },
  {
   "cell_type": "code",
   "execution_count": null,
   "metadata": {},
   "outputs": [],
   "source": [
    "plt.figure()\n",
    "width = 100\n",
    "types = list(reversed(damage_types))\n",
    "for i, damage in enumerate(types):\n",
    "    inputs = {'x': group['Load (g)'],\n",
    "              'height': group[damage],\n",
    "              'width': width,\n",
    "              'label': damage + f' [{2 - i}]',\n",
    "              'color': nice_colors(i)}\n",
    "    if i == 1:\n",
    "        bottom = group[types[i - 1]]\n",
    "        inputs['bottom'] = bottom\n",
    "    if i > 1:\n",
    "        bottom = bottom + group[types[i - 1]]\n",
    "        inputs['bottom'] = bottom\n",
    "    plt.bar(**inputs)\n",
    "plt.figlegend(loc='upper center', ncol=len(damage_types))\n",
    "plt.title('Trauma Score - Colon', size=10, weight='bold')\n",
    "plt.ylabel('Percentage of Samples')\n",
    "plt.xlabel('Load (g)')\n",
    "plt.ylim(0, 1)\n",
    "ax = plt.gca()\n",
    "ticks = ax.get_yticks()\n",
    "_ = ax.set_yticklabels(['{:.0%}'.format(x) for x in ticks])"
   ]
  },
  {
   "cell_type": "code",
   "execution_count": null,
   "metadata": {},
   "outputs": [],
   "source": [
    "# Same for serosal thickness change\n",
    "delta = colon['Significant Serosal Change']\n",
    "colon_del = pd.DataFrame({'No Change': (delta == False),\n",
    "                          'Significant Change': (delta == True)})\n",
    "colon_del = pd.concat([colon_del, colon['Load (g)']], axis=1)\n",
    "group = colon_del.groupby('Load (g)').sum()\n",
    "group['Count'] = group.sum(axis=1)\n",
    "group = group.reset_index()\n",
    "delta_types = ['No Change', 'Significant Change']\n",
    "for delta in delta_types:\n",
    "    group[delta] = group[delta] / group['Count']\n",
    "types = list(reversed(delta_types))\n",
    "\n",
    "plt.figure()\n",
    "for i, damage in enumerate(types):\n",
    "    inputs = {'x': group['Load (g)'],\n",
    "              'height': group[damage],\n",
    "              'width': width,\n",
    "              'label': damage,\n",
    "              'color': nice_colors(i + 1)}\n",
    "    if i == 1:\n",
    "        bottom = group[types[i - 1]]\n",
    "        inputs['bottom'] = bottom\n",
    "    if i > 1:\n",
    "        bottom = bottom + group[types[i - 1]]\n",
    "        inputs['bottom'] = bottom\n",
    "    plt.bar(**inputs)\n",
    "plt.figlegend(loc='upper center', ncol=len(damage_types))\n",
    "plt.title('Serosal Thickness Change - Colon', size=10, weight='bold')\n",
    "plt.ylabel('Percentage of Samples')\n",
    "plt.xlabel('Load (g)')\n",
    "plt.ylim(0, 1)\n",
    "ax = plt.gca()\n",
    "ticks = ax.get_yticks()\n",
    "_ = ax.set_yticklabels(['{:.0%}'.format(x) for x in ticks])"
   ]
  },
  {
   "cell_type": "markdown",
   "metadata": {},
   "source": [
    "# SMALL BOWEL PERCENTAGE PLOT"
   ]
  },
  {
   "cell_type": "code",
   "execution_count": null,
   "metadata": {},
   "outputs": [],
   "source": [
    "damage = sb['Damage Score']\n",
    "sb_dam = pd.DataFrame({'No Damage': (damage == 0),\n",
    "                       'Minor Damage': (damage == 1),\n",
    "                       'Major Damage': (damage == 2)})\n",
    "sb_dam = pd.concat([sb_dam, sb['Load (g)']], axis=1)\n",
    "sb_dam"
   ]
  },
  {
   "cell_type": "code",
   "execution_count": null,
   "metadata": {},
   "outputs": [],
   "source": [
    "group = sb_dam.groupby('Load (g)').sum()\n",
    "group['Count'] = group.sum(axis=1)\n",
    "group"
   ]
  },
  {
   "cell_type": "code",
   "execution_count": null,
   "metadata": {},
   "outputs": [],
   "source": [
    "group = group.reset_index()\n",
    "group"
   ]
  },
  {
   "cell_type": "code",
   "execution_count": null,
   "metadata": {},
   "outputs": [],
   "source": [
    "damage_types = ['No Damage', 'Minor Damage', 'Major Damage']\n",
    "for damage in damage_types:\n",
    "    group[damage] = group[damage] / group['Count']\n",
    "group"
   ]
  },
  {
   "cell_type": "code",
   "execution_count": null,
   "metadata": {},
   "outputs": [],
   "source": [
    "plt.figure()\n",
    "types = list(reversed(damage_types))\n",
    "for i, damage in enumerate(types):\n",
    "    inputs = {'x': group['Load (g)'],\n",
    "              'height': group[damage],\n",
    "              'width': width,\n",
    "              'label': damage + f' [{2 - i}]',\n",
    "              'color': nice_colors(i)}\n",
    "    if i == 1:\n",
    "        bottom = group[types[i - 1]]\n",
    "        inputs['bottom'] = bottom\n",
    "    if i > 1:\n",
    "        bottom = bottom + group[types[i - 1]]\n",
    "        inputs['bottom'] = bottom\n",
    "    plt.bar(**inputs)\n",
    "plt.figlegend(loc='upper center', ncol=len(damage_types))\n",
    "plt.title('Trauma Score - Small Bowel', size=10, weight='bold')\n",
    "plt.ylabel('Percentage of Samples')\n",
    "plt.xlabel('Load (g)')\n",
    "plt.ylim(0, 1)\n",
    "ax = plt.gca()\n",
    "ticks = ax.get_yticks()\n",
    "_ = ax.set_yticklabels(['{:.0%}'.format(x) for x in ticks])"
   ]
  },
  {
   "cell_type": "code",
   "execution_count": null,
   "metadata": {},
   "outputs": [],
   "source": [
    "# Same for serosal thickness change\n",
    "delta = sb['Significant Serosal Change']\n",
    "sb_del = pd.DataFrame({'No Change': (delta == False),\n",
    "                       'Significant Change': (delta == True)})\n",
    "sb_del = pd.concat([sb_del, sb['Load (g)']], axis=1)\n",
    "group = sb_del.groupby('Load (g)').sum()\n",
    "group['Count'] = group.sum(axis=1)\n",
    "group = group.reset_index()\n",
    "delta_types = ['No Change', 'Significant Change']\n",
    "for delta in delta_types:\n",
    "    group[delta] = group[delta] / group['Count']\n",
    "types = list(reversed(delta_types))\n",
    "\n",
    "plt.figure()\n",
    "for i, damage in enumerate(types):\n",
    "    inputs = {'x': group['Load (g)'],\n",
    "              'height': group[damage],\n",
    "              'width': width,\n",
    "              'label': damage,\n",
    "              'color': nice_colors(i + 1)}\n",
    "    if i == 1:\n",
    "        bottom = group[types[i - 1]]\n",
    "        inputs['bottom'] = bottom\n",
    "    if i > 1:\n",
    "        bottom = bottom + group[types[i - 1]]\n",
    "        inputs['bottom'] = bottom\n",
    "    plt.bar(**inputs)\n",
    "plt.figlegend(loc='upper center', ncol=len(damage_types))\n",
    "plt.title('Serosal Thickness Change - Small Bowel', size=10, weight='bold')\n",
    "plt.ylabel('Percentage of Samples')\n",
    "plt.xlabel('Load (g)')\n",
    "plt.ylim(0, 1)\n",
    "ax = plt.gca()\n",
    "ticks = ax.get_yticks()\n",
    "_ = ax.set_yticklabels(['{:.0%}'.format(x) for x in ticks])"
   ]
  },
  {
   "cell_type": "code",
   "execution_count": null,
   "metadata": {},
   "outputs": [],
   "source": [
    "for i, c in group['Count'].items():\n",
    "    print(group['Load (g)'][i])\n",
    "    print(c)"
   ]
  },
  {
   "cell_type": "markdown",
   "metadata": {},
   "source": [
    "# Patient Plots"
   ]
  },
  {
   "cell_type": "code",
   "execution_count": null,
   "metadata": {},
   "outputs": [],
   "source": []
  },
  {
   "cell_type": "code",
   "execution_count": null,
   "metadata": {},
   "outputs": [],
   "source": [
    "fig = plt.figure()\n",
    "ax = plt.subplot2grid((20, 1), (1, 0), rowspan=19)"
   ]
  }
 ],
 "metadata": {
  "kernelspec": {
   "display_name": "Python 3",
   "language": "python",
   "name": "python3"
  },
  "language_info": {
   "codemirror_mode": {
    "name": "ipython",
    "version": 3
   },
   "file_extension": ".py",
   "mimetype": "text/x-python",
   "name": "python",
   "nbconvert_exporter": "python",
   "pygments_lexer": "ipython3"
  }
 },
 "nbformat": 4,
 "nbformat_minor": 2
}
