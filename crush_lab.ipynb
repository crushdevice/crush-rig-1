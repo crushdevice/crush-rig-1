{
 "cells": [
  {
   "cell_type": "markdown",
   "metadata": {},
   "source": [
    "# Crush Rig Lab\n",
    "Written by Matt MacDonald for CIGITI at the Hospital for Sick Children Toronto\n",
    "***"
   ]
  },
  {
   "cell_type": "markdown",
   "metadata": {},
   "source": [
    "All tools to manipulate data will be obtained from the crush_plot.py file."
   ]
  },
  {
   "cell_type": "code",
   "execution_count": 1,
   "metadata": {
    "collapsed": true
   },
   "outputs": [],
   "source": [
    "%load_ext autoreload\n",
    "%autoreload 2"
   ]
  },
  {
   "cell_type": "code",
   "execution_count": 2,
   "metadata": {
    "collapsed": true
   },
   "outputs": [],
   "source": [
    "%matplotlib notebook\n",
    "# import matplotlib as mpl\n",
    "# mpl.rcParams['savefig.dpi'] = 120\n",
    "# mpl.rcParams['figure.dpi'] = 120"
   ]
  },
  {
   "cell_type": "code",
   "execution_count": 3,
   "metadata": {
    "collapsed": true
   },
   "outputs": [],
   "source": [
    "from crush_plot import *"
   ]
  },
  {
   "cell_type": "markdown",
   "metadata": {},
   "source": [
    "The crush data must be collected using the crush rig and crush.py and stored in the expected folder structure at the root directory indicated by PATH."
   ]
  },
  {
   "cell_type": "code",
   "execution_count": 4,
   "metadata": {
    "collapsed": true
   },
   "outputs": [],
   "source": [
    "# PATH = Path('')\n",
    "# Default in crush_plot.py"
   ]
  },
  {
   "cell_type": "markdown",
   "metadata": {},
   "source": [
    "Load all data and modify as needed."
   ]
  },
  {
   "cell_type": "code",
   "execution_count": 5,
   "metadata": {
    "collapsed": true
   },
   "outputs": [],
   "source": [
    "study = study_outline(PATH)\n",
    "crushes = study_data(study)\n",
    "crushes = modify(crushes)"
   ]
  },
  {
   "cell_type": "code",
   "execution_count": 6,
   "metadata": {},
   "outputs": [
    {
     "data": {
      "text/html": [
       "<div>\n",
       "<style>\n",
       "    .dataframe thead tr:only-child th {\n",
       "        text-align: right;\n",
       "    }\n",
       "\n",
       "    .dataframe thead th {\n",
       "        text-align: left;\n",
       "    }\n",
       "\n",
       "    .dataframe tbody tr th {\n",
       "        vertical-align: top;\n",
       "    }\n",
       "</style>\n",
       "<table border=\"1\" class=\"dataframe\">\n",
       "  <thead>\n",
       "    <tr style=\"text-align: right;\">\n",
       "      <th></th>\n",
       "      <th>Patient Code</th>\n",
       "      <th>Procedure Date</th>\n",
       "      <th>Gender</th>\n",
       "      <th>DOB</th>\n",
       "      <th>Age</th>\n",
       "      <th>Procedure</th>\n",
       "      <th>Tissue</th>\n",
       "      <th>Surgeon</th>\n",
       "      <th>Notes</th>\n",
       "      <th>Issues</th>\n",
       "      <th>Histology</th>\n",
       "      <th>Classification</th>\n",
       "      <th>Folder Name</th>\n",
       "    </tr>\n",
       "    <tr>\n",
       "      <th>Test ID</th>\n",
       "      <th></th>\n",
       "      <th></th>\n",
       "      <th></th>\n",
       "      <th></th>\n",
       "      <th></th>\n",
       "      <th></th>\n",
       "      <th></th>\n",
       "      <th></th>\n",
       "      <th></th>\n",
       "      <th></th>\n",
       "      <th></th>\n",
       "      <th></th>\n",
       "      <th></th>\n",
       "    </tr>\n",
       "  </thead>\n",
       "  <tbody>\n",
       "    <tr>\n",
       "      <th>1</th>\n",
       "      <td>PC1</td>\n",
       "      <td>2018-11-12</td>\n",
       "      <td>M</td>\n",
       "      <td>1943-02-24</td>\n",
       "      <td>27655 days</td>\n",
       "      <td>Anterior resection (laparoscopic) - laparoscop...</td>\n",
       "      <td>sigmoid colon</td>\n",
       "      <td>Vanessa Palter</td>\n",
       "      <td>Excellent sample, not stored in formalin, obta...</td>\n",
       "      <td>Large tumor, had to take away from margin</td>\n",
       "      <td>SCANNED</td>\n",
       "      <td>COLON</td>\n",
       "      <td>20181112 - PC1 - COLON</td>\n",
       "    </tr>\n",
       "    <tr>\n",
       "      <th>2</th>\n",
       "      <td>PC2</td>\n",
       "      <td>2018-11-13</td>\n",
       "      <td>M</td>\n",
       "      <td>1974-01-17</td>\n",
       "      <td>16371 days</td>\n",
       "      <td>Colectomy left (low anterior resection, loop i...</td>\n",
       "      <td>sigmoid colon</td>\n",
       "      <td>Marcus Burnstein</td>\n",
       "      <td>sample had tumor, taken well away from margins</td>\n",
       "      <td>inflammed</td>\n",
       "      <td>SCANNED</td>\n",
       "      <td>COLON</td>\n",
       "      <td>20181113 - PC2 - COLON</td>\n",
       "    </tr>\n",
       "    <tr>\n",
       "      <th>3</th>\n",
       "      <td>PC3</td>\n",
       "      <td>2018-11-14</td>\n",
       "      <td>M</td>\n",
       "      <td>1964-05-22</td>\n",
       "      <td>19899 days</td>\n",
       "      <td>Sigmoid resection laparoscopic (lap. Sigmoid r...</td>\n",
       "      <td>sigmoid colon</td>\n",
       "      <td>Sandra de Montbrun</td>\n",
       "      <td>great looking sample</td>\n",
       "      <td>some slippage of tissue at 800, 1000, started ...</td>\n",
       "      <td>SCANNED</td>\n",
       "      <td>COLON</td>\n",
       "      <td>20181114 - PC3 - COLON</td>\n",
       "    </tr>\n",
       "    <tr>\n",
       "      <th>4</th>\n",
       "      <td>PC4</td>\n",
       "      <td>2018-11-16</td>\n",
       "      <td>F</td>\n",
       "      <td>1950-12-28</td>\n",
       "      <td>24795 days</td>\n",
       "      <td>Colectomy Right Hemi / Ileocolic (open, right ...</td>\n",
       "      <td>small bowel attached to right colon</td>\n",
       "      <td>Sandro Rizoli</td>\n",
       "      <td>able to do stop and multi stop, dx abdominal p...</td>\n",
       "      <td>multi hold 1000 needed to be done twice, first...</td>\n",
       "      <td>SCANNED</td>\n",
       "      <td>SB</td>\n",
       "      <td>20181116 - PC4 - SB</td>\n",
       "    </tr>\n",
       "    <tr>\n",
       "      <th>5</th>\n",
       "      <td>PC5</td>\n",
       "      <td>2018-11-20</td>\n",
       "      <td>M</td>\n",
       "      <td>1986-07-15</td>\n",
       "      <td>11816 days</td>\n",
       "      <td>Ileoanal reservoir + loop ileostomy (anal anas...</td>\n",
       "      <td>small bowel and large colon sample</td>\n",
       "      <td>Marcus Burnstein</td>\n",
       "      <td>very small small bowel sample, was attached to...</td>\n",
       "      <td>slippage of tissue at 200, 800</td>\n",
       "      <td>SCANNED</td>\n",
       "      <td>SB</td>\n",
       "      <td>20181120 - PC5 - SB</td>\n",
       "    </tr>\n",
       "    <tr>\n",
       "      <th>6</th>\n",
       "      <td>PC6</td>\n",
       "      <td>2018-11-21</td>\n",
       "      <td>M</td>\n",
       "      <td>1948-07-23</td>\n",
       "      <td>25688 days</td>\n",
       "      <td>Abdominal perineal resection / proctectomy / p...</td>\n",
       "      <td>large colon</td>\n",
       "      <td>Sandra de Montbrun</td>\n",
       "      <td>N/A</td>\n",
       "      <td>N/A</td>\n",
       "      <td>Waiting</td>\n",
       "      <td>COLON</td>\n",
       "      <td>20181121 - PC6 - COLON</td>\n",
       "    </tr>\n",
       "    <tr>\n",
       "      <th>7</th>\n",
       "      <td>PC7</td>\n",
       "      <td>2018-11-27</td>\n",
       "      <td>F</td>\n",
       "      <td>1953-01-17</td>\n",
       "      <td>24055 days</td>\n",
       "      <td>Ileostomy and rectum</td>\n",
       "      <td>Rectum</td>\n",
       "      <td>Marcus Burnstein</td>\n",
       "      <td>thickened samples</td>\n",
       "      <td>Ulcerative colitis</td>\n",
       "      <td>Waiting</td>\n",
       "      <td>COLON</td>\n",
       "      <td>20181127 - PC7 - COLON</td>\n",
       "    </tr>\n",
       "    <tr>\n",
       "      <th>8</th>\n",
       "      <td>PC8</td>\n",
       "      <td>2018-11-28</td>\n",
       "      <td>F</td>\n",
       "      <td>1961-10-18</td>\n",
       "      <td>20860 days</td>\n",
       "      <td>right hemicolectomy</td>\n",
       "      <td>colon</td>\n",
       "      <td>Sandra de Montbrun</td>\n",
       "      <td>last 2 cecum, first 4 ascending colon</td>\n",
       "      <td>ascending colon carcinoma</td>\n",
       "      <td>Waiting</td>\n",
       "      <td>COLON</td>\n",
       "      <td>20181128 - PC8 - COLON</td>\n",
       "    </tr>\n",
       "    <tr>\n",
       "      <th>9</th>\n",
       "      <td>PC9</td>\n",
       "      <td>2018-11-28</td>\n",
       "      <td>M</td>\n",
       "      <td>1927-05-25</td>\n",
       "      <td>33425 days</td>\n",
       "      <td>hemicolectomy right</td>\n",
       "      <td>colon</td>\n",
       "      <td>Nancy Baxter</td>\n",
       "      <td>N/A</td>\n",
       "      <td>A-F colon</td>\n",
       "      <td>Waiting</td>\n",
       "      <td>COLON</td>\n",
       "      <td>20181128 - PC9 - COLON</td>\n",
       "    </tr>\n",
       "    <tr>\n",
       "      <th>10</th>\n",
       "      <td>PC9</td>\n",
       "      <td>2018-11-28</td>\n",
       "      <td>M</td>\n",
       "      <td>1927-05-25</td>\n",
       "      <td>33425 days</td>\n",
       "      <td>hemicolectomy right</td>\n",
       "      <td>SB</td>\n",
       "      <td>Nancy Baxter</td>\n",
       "      <td>N/A</td>\n",
       "      <td>G-L small bowel</td>\n",
       "      <td>Waiting</td>\n",
       "      <td>SB</td>\n",
       "      <td>20181128 - PC9 - SB</td>\n",
       "    </tr>\n",
       "    <tr>\n",
       "      <th>11</th>\n",
       "      <td>PC10</td>\n",
       "      <td>2018-11-29</td>\n",
       "      <td>F</td>\n",
       "      <td>1936-02-26</td>\n",
       "      <td>30227 days</td>\n",
       "      <td>rectum / rectal prolapse</td>\n",
       "      <td>rectum</td>\n",
       "      <td>Sandra de Montbrun</td>\n",
       "      <td>N/A</td>\n",
       "      <td>recurrent rectal prolapse</td>\n",
       "      <td>Waiting</td>\n",
       "      <td>COLON</td>\n",
       "      <td>20181129 - PC10 - COLON</td>\n",
       "    </tr>\n",
       "  </tbody>\n",
       "</table>\n",
       "</div>"
      ],
      "text/plain": [
       "        Patient Code Procedure Date Gender        DOB        Age  \\\n",
       "Test ID                                                            \n",
       "1                PC1     2018-11-12      M 1943-02-24 27655 days   \n",
       "2                PC2     2018-11-13      M 1974-01-17 16371 days   \n",
       "3                PC3     2018-11-14      M 1964-05-22 19899 days   \n",
       "4                PC4     2018-11-16      F 1950-12-28 24795 days   \n",
       "5                PC5     2018-11-20      M 1986-07-15 11816 days   \n",
       "6                PC6     2018-11-21      M 1948-07-23 25688 days   \n",
       "7                PC7     2018-11-27      F 1953-01-17 24055 days   \n",
       "8                PC8     2018-11-28      F 1961-10-18 20860 days   \n",
       "9                PC9     2018-11-28      M 1927-05-25 33425 days   \n",
       "10               PC9     2018-11-28      M 1927-05-25 33425 days   \n",
       "11              PC10     2018-11-29      F 1936-02-26 30227 days   \n",
       "\n",
       "                                                 Procedure  \\\n",
       "Test ID                                                      \n",
       "1        Anterior resection (laparoscopic) - laparoscop...   \n",
       "2        Colectomy left (low anterior resection, loop i...   \n",
       "3        Sigmoid resection laparoscopic (lap. Sigmoid r...   \n",
       "4        Colectomy Right Hemi / Ileocolic (open, right ...   \n",
       "5        Ileoanal reservoir + loop ileostomy (anal anas...   \n",
       "6        Abdominal perineal resection / proctectomy / p...   \n",
       "7                                     Ileostomy and rectum   \n",
       "8                                      right hemicolectomy   \n",
       "9                                      hemicolectomy right   \n",
       "10                                     hemicolectomy right   \n",
       "11                                rectum / rectal prolapse   \n",
       "\n",
       "                                      Tissue             Surgeon  \\\n",
       "Test ID                                                            \n",
       "1                              sigmoid colon      Vanessa Palter   \n",
       "2                              sigmoid colon    Marcus Burnstein   \n",
       "3                              sigmoid colon  Sandra de Montbrun   \n",
       "4        small bowel attached to right colon       Sandro Rizoli   \n",
       "5         small bowel and large colon sample    Marcus Burnstein   \n",
       "6                                large colon  Sandra de Montbrun   \n",
       "7                                     Rectum    Marcus Burnstein   \n",
       "8                                      colon  Sandra de Montbrun   \n",
       "9                                      colon        Nancy Baxter   \n",
       "10                                        SB        Nancy Baxter   \n",
       "11                                    rectum  Sandra de Montbrun   \n",
       "\n",
       "                                                     Notes  \\\n",
       "Test ID                                                      \n",
       "1        Excellent sample, not stored in formalin, obta...   \n",
       "2           sample had tumor, taken well away from margins   \n",
       "3                                     great looking sample   \n",
       "4        able to do stop and multi stop, dx abdominal p...   \n",
       "5        very small small bowel sample, was attached to...   \n",
       "6                                                      N/A   \n",
       "7                                        thickened samples   \n",
       "8                    last 2 cecum, first 4 ascending colon   \n",
       "9                                                      N/A   \n",
       "10                                                     N/A   \n",
       "11                                                     N/A   \n",
       "\n",
       "                                                    Issues Histology  \\\n",
       "Test ID                                                                \n",
       "1                Large tumor, had to take away from margin   SCANNED   \n",
       "2                                                inflammed   SCANNED   \n",
       "3        some slippage of tissue at 800, 1000, started ...   SCANNED   \n",
       "4        multi hold 1000 needed to be done twice, first...   SCANNED   \n",
       "5                           slippage of tissue at 200, 800   SCANNED   \n",
       "6                                                      N/A   Waiting   \n",
       "7                                       Ulcerative colitis   Waiting   \n",
       "8                                ascending colon carcinoma   Waiting   \n",
       "9                                                A-F colon   Waiting   \n",
       "10                                         G-L small bowel   Waiting   \n",
       "11                               recurrent rectal prolapse   Waiting   \n",
       "\n",
       "        Classification              Folder Name  \n",
       "Test ID                                          \n",
       "1                COLON   20181112 - PC1 - COLON  \n",
       "2                COLON   20181113 - PC2 - COLON  \n",
       "3                COLON   20181114 - PC3 - COLON  \n",
       "4                   SB      20181116 - PC4 - SB  \n",
       "5                   SB      20181120 - PC5 - SB  \n",
       "6                COLON   20181121 - PC6 - COLON  \n",
       "7                COLON   20181127 - PC7 - COLON  \n",
       "8                COLON   20181128 - PC8 - COLON  \n",
       "9                COLON   20181128 - PC9 - COLON  \n",
       "10                  SB      20181128 - PC9 - SB  \n",
       "11               COLON  20181129 - PC10 - COLON  "
      ]
     },
     "execution_count": 6,
     "metadata": {},
     "output_type": "execute_result"
    }
   ],
   "source": [
    "study"
   ]
  },
  {
   "cell_type": "code",
   "execution_count": null,
   "metadata": {
    "collapsed": true
   },
   "outputs": [],
   "source": [
    "crushes"
   ]
  },
  {
   "cell_type": "markdown",
   "metadata": {},
   "source": [
    "Time series plots can be made with time_plot(crushes) and stress-strain plots can be made with stress_plot(crushes)."
   ]
  },
  {
   "cell_type": "code",
   "execution_count": null,
   "metadata": {
    "collapsed": true,
    "scrolled": false
   },
   "outputs": [],
   "source": [
    "time_plot(crushes)"
   ]
  },
  {
   "cell_type": "code",
   "execution_count": null,
   "metadata": {
    "collapsed": true
   },
   "outputs": [],
   "source": [
    "stress_plot(crushes)"
   ]
  },
  {
   "cell_type": "markdown",
   "metadata": {},
   "source": [
    "Select subsets of the crushes using the convenience functions:\n",
    "- patient(*patient*)\n",
    "- tissue(*tissue*)\n",
    "- protocol(*protocol*)\n",
    "- load(*load*)"
   ]
  },
  {
   "cell_type": "code",
   "execution_count": null,
   "metadata": {
    "collapsed": true
   },
   "outputs": [],
   "source": [
    "# Convenience functions\n",
    "def patient(patient):\n",
    "    return crushes.loc[crushes['Patient'] == patient.upper(), :]\n",
    "\n",
    "def tissue(tissue):\n",
    "    return crushes.loc[crushes['Tissue'] == tissue.upper(), :]\n",
    "\n",
    "def protocol(protocol):\n",
    "    return crushes.loc[crushes['Protocol'] == protocol.lower(), :]\n",
    "\n",
    "def load(load):\n",
    "    return crushes.loc[crushes['Load'] == load.lower(), :]"
   ]
  },
  {
   "cell_type": "markdown",
   "metadata": {},
   "source": [
    "Subsets can be combined using select( )."
   ]
  },
  {
   "cell_type": "code",
   "execution_count": null,
   "metadata": {
    "collapsed": true
   },
   "outputs": [],
   "source": [
    "def select(*args, **kwargs):\n",
    "    args = list(args)\n",
    "    for key, val in kwargs.items():\n",
    "        args.append(globals()[key](val))\n",
    "    if len(args) == 1:\n",
    "        return args[0]\n",
    "    if len(args) > 2:\n",
    "        args = [args[0], select(*args[1:])]\n",
    "    index = (args[0].index).intersection(args[1].index)\n",
    "    return crushes.loc[index, :]"
   ]
  },
  {
   "cell_type": "code",
   "execution_count": null,
   "metadata": {
    "collapsed": true
   },
   "outputs": [],
   "source": [
    "protocol('hold')"
   ]
  },
  {
   "cell_type": "code",
   "execution_count": null,
   "metadata": {
    "collapsed": true
   },
   "outputs": [],
   "source": [
    "select(patient('pc3'), protocol('hold'), load('1200g'))"
   ]
  },
  {
   "cell_type": "code",
   "execution_count": null,
   "metadata": {
    "collapsed": true
   },
   "outputs": [],
   "source": [
    "x = select(tissue('sb'), load('200g'))\n",
    "x"
   ]
  },
  {
   "cell_type": "code",
   "execution_count": null,
   "metadata": {
    "collapsed": true
   },
   "outputs": [],
   "source": [
    "stress_plot(x)"
   ]
  },
  {
   "cell_type": "code",
   "execution_count": null,
   "metadata": {
    "collapsed": true,
    "scrolled": false
   },
   "outputs": [],
   "source": [
    "time_plot(select(tissue='sb', load='800g'))"
   ]
  },
  {
   "cell_type": "code",
   "execution_count": null,
   "metadata": {
    "collapsed": true
   },
   "outputs": [],
   "source": [
    "x = select(protocol='stop', load='1200g')\n",
    "x"
   ]
  },
  {
   "cell_type": "code",
   "execution_count": null,
   "metadata": {
    "collapsed": true
   },
   "outputs": [],
   "source": [
    "time_plot(x)"
   ]
  },
  {
   "cell_type": "code",
   "execution_count": null,
   "metadata": {
    "collapsed": true
   },
   "outputs": [],
   "source": [
    "time_plot(select(patient('pc3'), protocol='stop'))"
   ]
  },
  {
   "cell_type": "code",
   "execution_count": null,
   "metadata": {
    "collapsed": true
   },
   "outputs": [],
   "source": []
  }
 ],
 "metadata": {
  "kernelspec": {
   "display_name": "Python 3",
   "language": "python",
   "name": "python3"
  },
  "language_info": {
   "codemirror_mode": {
    "name": "ipython",
    "version": 3
   },
   "file_extension": ".py",
   "mimetype": "text/x-python",
   "name": "python",
   "nbconvert_exporter": "python",
   "pygments_lexer": "ipython3",
   "version": "3.6.7"
  }
 },
 "nbformat": 4,
 "nbformat_minor": 2
}
